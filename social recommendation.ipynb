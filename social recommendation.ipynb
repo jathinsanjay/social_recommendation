{
 "cells": [
  {
   "cell_type": "code",
   "execution_count": 2,
   "id": "c412347e",
   "metadata": {},
   "outputs": [],
   "source": [
    "import pandas as pd\n",
    "import networkx as nx\n",
    "from sklearn.preprocessing import LabelEncoder  \n",
    "from sklearn.metrics.pairwise import cosine_similarity\n",
    "\n",
    "df = pd.read_csv('./profiles.csv')\n",
    "df2=pd.read_csv('./SocialMediaUsersDataset.csv')\n",
    "#essay0 - My self summary\n",
    "#essay2 - I’m really good at\n",
    "#essay4 - Favorite books, movies, show, music, and food\n"
   ]
  },
  {
   "cell_type": "code",
   "execution_count": 3,
   "id": "37a4b8b1",
   "metadata": {},
   "outputs": [
    {
     "data": {
      "text/plain": [
       "Index(['age', 'body_type', 'diet', 'drinks', 'drugs', 'education', 'essay0',\n",
       "       'essay1', 'essay2', 'essay3', 'essay4', 'essay5', 'essay6', 'essay7',\n",
       "       'essay8', 'essay9', 'ethnicity', 'height', 'income', 'job',\n",
       "       'last_online', 'location', 'offspring', 'orientation', 'pets',\n",
       "       'religion', 'sex', 'sign', 'smokes', 'speaks', 'status'],\n",
       "      dtype='object')"
      ]
     },
     "execution_count": 3,
     "metadata": {},
     "output_type": "execute_result"
    }
   ],
   "source": [
    "df.columns"
   ]
  },
  {
   "cell_type": "code",
   "execution_count": 4,
   "id": "b0274c30",
   "metadata": {},
   "outputs": [],
   "source": [
    "\n",
    "columns_to_keep = ['job', 'ethnicity', 'education','speaks','pets', 'religion']\n",
    "\n",
    "\n",
    "df_filtered = df[columns_to_keep]\n",
    "\n"
   ]
  },
  {
   "cell_type": "code",
   "execution_count": 5,
   "id": "c2ed19d9",
   "metadata": {},
   "outputs": [
    {
     "data": {
      "text/html": [
       "<div>\n",
       "<style scoped>\n",
       "    .dataframe tbody tr th:only-of-type {\n",
       "        vertical-align: middle;\n",
       "    }\n",
       "\n",
       "    .dataframe tbody tr th {\n",
       "        vertical-align: top;\n",
       "    }\n",
       "\n",
       "    .dataframe thead th {\n",
       "        text-align: right;\n",
       "    }\n",
       "</style>\n",
       "<table border=\"1\" class=\"dataframe\">\n",
       "  <thead>\n",
       "    <tr style=\"text-align: right;\">\n",
       "      <th></th>\n",
       "      <th>job</th>\n",
       "      <th>ethnicity</th>\n",
       "      <th>education</th>\n",
       "      <th>speaks</th>\n",
       "      <th>pets</th>\n",
       "      <th>religion</th>\n",
       "    </tr>\n",
       "  </thead>\n",
       "  <tbody>\n",
       "    <tr>\n",
       "      <th>0</th>\n",
       "      <td>transportation</td>\n",
       "      <td>asian, white</td>\n",
       "      <td>working on college/university</td>\n",
       "      <td>english</td>\n",
       "      <td>likes dogs and likes cats</td>\n",
       "      <td>agnosticism and very serious about it</td>\n",
       "    </tr>\n",
       "    <tr>\n",
       "      <th>1</th>\n",
       "      <td>hospitality / travel</td>\n",
       "      <td>white</td>\n",
       "      <td>working on space camp</td>\n",
       "      <td>english (fluently), spanish (poorly), french (...</td>\n",
       "      <td>likes dogs and likes cats</td>\n",
       "      <td>agnosticism but not too serious about it</td>\n",
       "    </tr>\n",
       "    <tr>\n",
       "      <th>2</th>\n",
       "      <td>NaN</td>\n",
       "      <td>NaN</td>\n",
       "      <td>graduated from masters program</td>\n",
       "      <td>english, french, c++</td>\n",
       "      <td>has cats</td>\n",
       "      <td>NaN</td>\n",
       "    </tr>\n",
       "    <tr>\n",
       "      <th>3</th>\n",
       "      <td>student</td>\n",
       "      <td>white</td>\n",
       "      <td>working on college/university</td>\n",
       "      <td>english, german (poorly)</td>\n",
       "      <td>likes cats</td>\n",
       "      <td>NaN</td>\n",
       "    </tr>\n",
       "    <tr>\n",
       "      <th>4</th>\n",
       "      <td>artistic / musical / writer</td>\n",
       "      <td>asian, black, other</td>\n",
       "      <td>graduated from college/university</td>\n",
       "      <td>english</td>\n",
       "      <td>likes dogs and likes cats</td>\n",
       "      <td>NaN</td>\n",
       "    </tr>\n",
       "  </tbody>\n",
       "</table>\n",
       "</div>"
      ],
      "text/plain": [
       "                           job            ethnicity  \\\n",
       "0               transportation         asian, white   \n",
       "1         hospitality / travel                white   \n",
       "2                          NaN                  NaN   \n",
       "3                      student                white   \n",
       "4  artistic / musical / writer  asian, black, other   \n",
       "\n",
       "                           education  \\\n",
       "0      working on college/university   \n",
       "1              working on space camp   \n",
       "2     graduated from masters program   \n",
       "3      working on college/university   \n",
       "4  graduated from college/university   \n",
       "\n",
       "                                              speaks  \\\n",
       "0                                            english   \n",
       "1  english (fluently), spanish (poorly), french (...   \n",
       "2                               english, french, c++   \n",
       "3                           english, german (poorly)   \n",
       "4                                            english   \n",
       "\n",
       "                        pets                                  religion  \n",
       "0  likes dogs and likes cats     agnosticism and very serious about it  \n",
       "1  likes dogs and likes cats  agnosticism but not too serious about it  \n",
       "2                   has cats                                       NaN  \n",
       "3                 likes cats                                       NaN  \n",
       "4  likes dogs and likes cats                                       NaN  "
      ]
     },
     "execution_count": 5,
     "metadata": {},
     "output_type": "execute_result"
    }
   ],
   "source": [
    "df_filtered.head()"
   ]
  },
  {
   "cell_type": "code",
   "execution_count": 6,
   "id": "07e5f9bd",
   "metadata": {},
   "outputs": [
    {
     "data": {
      "text/html": [
       "<div>\n",
       "<style scoped>\n",
       "    .dataframe tbody tr th:only-of-type {\n",
       "        vertical-align: middle;\n",
       "    }\n",
       "\n",
       "    .dataframe tbody tr th {\n",
       "        vertical-align: top;\n",
       "    }\n",
       "\n",
       "    .dataframe thead th {\n",
       "        text-align: right;\n",
       "    }\n",
       "</style>\n",
       "<table border=\"1\" class=\"dataframe\">\n",
       "  <thead>\n",
       "    <tr style=\"text-align: right;\">\n",
       "      <th></th>\n",
       "      <th>job</th>\n",
       "      <th>ethnicity</th>\n",
       "      <th>education</th>\n",
       "      <th>speaks</th>\n",
       "      <th>pets</th>\n",
       "      <th>religion</th>\n",
       "    </tr>\n",
       "  </thead>\n",
       "  <tbody>\n",
       "    <tr>\n",
       "      <th>0</th>\n",
       "      <td>transportation</td>\n",
       "      <td>asian, white</td>\n",
       "      <td>working on college/university</td>\n",
       "      <td>english</td>\n",
       "      <td>likes dogs and likes cats</td>\n",
       "      <td>agnosticism and very serious about it</td>\n",
       "    </tr>\n",
       "    <tr>\n",
       "      <th>1</th>\n",
       "      <td>hospitality / travel</td>\n",
       "      <td>white</td>\n",
       "      <td>working on space camp</td>\n",
       "      <td>english (fluently), spanish (poorly), french (...</td>\n",
       "      <td>likes dogs and likes cats</td>\n",
       "      <td>agnosticism but not too serious about it</td>\n",
       "    </tr>\n",
       "    <tr>\n",
       "      <th>2</th>\n",
       "      <td>NaN</td>\n",
       "      <td>NaN</td>\n",
       "      <td>graduated from masters program</td>\n",
       "      <td>english, french, c++</td>\n",
       "      <td>has cats</td>\n",
       "      <td>NaN</td>\n",
       "    </tr>\n",
       "    <tr>\n",
       "      <th>3</th>\n",
       "      <td>student</td>\n",
       "      <td>white</td>\n",
       "      <td>working on college/university</td>\n",
       "      <td>english, german (poorly)</td>\n",
       "      <td>likes cats</td>\n",
       "      <td>NaN</td>\n",
       "    </tr>\n",
       "    <tr>\n",
       "      <th>4</th>\n",
       "      <td>artistic / musical / writer</td>\n",
       "      <td>asian, black, other</td>\n",
       "      <td>graduated from college/university</td>\n",
       "      <td>english</td>\n",
       "      <td>likes dogs and likes cats</td>\n",
       "      <td>NaN</td>\n",
       "    </tr>\n",
       "    <tr>\n",
       "      <th>...</th>\n",
       "      <td>...</td>\n",
       "      <td>...</td>\n",
       "      <td>...</td>\n",
       "      <td>...</td>\n",
       "      <td>...</td>\n",
       "      <td>...</td>\n",
       "    </tr>\n",
       "    <tr>\n",
       "      <th>59941</th>\n",
       "      <td>sales / marketing / biz dev</td>\n",
       "      <td>NaN</td>\n",
       "      <td>graduated from college/university</td>\n",
       "      <td>english</td>\n",
       "      <td>has dogs</td>\n",
       "      <td>catholicism but not too serious about it</td>\n",
       "    </tr>\n",
       "    <tr>\n",
       "      <th>59942</th>\n",
       "      <td>entertainment / media</td>\n",
       "      <td>white, other</td>\n",
       "      <td>working on college/university</td>\n",
       "      <td>english (fluently)</td>\n",
       "      <td>likes dogs and likes cats</td>\n",
       "      <td>agnosticism</td>\n",
       "    </tr>\n",
       "    <tr>\n",
       "      <th>59943</th>\n",
       "      <td>construction / craftsmanship</td>\n",
       "      <td>asian</td>\n",
       "      <td>graduated from masters program</td>\n",
       "      <td>english (fluently)</td>\n",
       "      <td>NaN</td>\n",
       "      <td>christianity but not too serious about it</td>\n",
       "    </tr>\n",
       "    <tr>\n",
       "      <th>59944</th>\n",
       "      <td>medicine / health</td>\n",
       "      <td>asian, black</td>\n",
       "      <td>working on college/university</td>\n",
       "      <td>english (fluently), spanish (poorly), chinese ...</td>\n",
       "      <td>likes dogs and likes cats</td>\n",
       "      <td>agnosticism but not too serious about it</td>\n",
       "    </tr>\n",
       "    <tr>\n",
       "      <th>59945</th>\n",
       "      <td>medicine / health</td>\n",
       "      <td>white</td>\n",
       "      <td>graduated from masters program</td>\n",
       "      <td>english</td>\n",
       "      <td>likes dogs and likes cats</td>\n",
       "      <td>catholicism and laughing about it</td>\n",
       "    </tr>\n",
       "  </tbody>\n",
       "</table>\n",
       "<p>59946 rows × 6 columns</p>\n",
       "</div>"
      ],
      "text/plain": [
       "                                job            ethnicity  \\\n",
       "0                    transportation         asian, white   \n",
       "1              hospitality / travel                white   \n",
       "2                               NaN                  NaN   \n",
       "3                           student                white   \n",
       "4       artistic / musical / writer  asian, black, other   \n",
       "...                             ...                  ...   \n",
       "59941   sales / marketing / biz dev                  NaN   \n",
       "59942         entertainment / media         white, other   \n",
       "59943  construction / craftsmanship                asian   \n",
       "59944             medicine / health         asian, black   \n",
       "59945             medicine / health                white   \n",
       "\n",
       "                               education  \\\n",
       "0          working on college/university   \n",
       "1                  working on space camp   \n",
       "2         graduated from masters program   \n",
       "3          working on college/university   \n",
       "4      graduated from college/university   \n",
       "...                                  ...   \n",
       "59941  graduated from college/university   \n",
       "59942      working on college/university   \n",
       "59943     graduated from masters program   \n",
       "59944      working on college/university   \n",
       "59945     graduated from masters program   \n",
       "\n",
       "                                                  speaks  \\\n",
       "0                                                english   \n",
       "1      english (fluently), spanish (poorly), french (...   \n",
       "2                                   english, french, c++   \n",
       "3                               english, german (poorly)   \n",
       "4                                                english   \n",
       "...                                                  ...   \n",
       "59941                                            english   \n",
       "59942                                 english (fluently)   \n",
       "59943                                 english (fluently)   \n",
       "59944  english (fluently), spanish (poorly), chinese ...   \n",
       "59945                                            english   \n",
       "\n",
       "                            pets                                   religion  \n",
       "0      likes dogs and likes cats      agnosticism and very serious about it  \n",
       "1      likes dogs and likes cats   agnosticism but not too serious about it  \n",
       "2                       has cats                                        NaN  \n",
       "3                     likes cats                                        NaN  \n",
       "4      likes dogs and likes cats                                        NaN  \n",
       "...                          ...                                        ...  \n",
       "59941                   has dogs   catholicism but not too serious about it  \n",
       "59942  likes dogs and likes cats                                agnosticism  \n",
       "59943                        NaN  christianity but not too serious about it  \n",
       "59944  likes dogs and likes cats   agnosticism but not too serious about it  \n",
       "59945  likes dogs and likes cats          catholicism and laughing about it  \n",
       "\n",
       "[59946 rows x 6 columns]"
      ]
     },
     "execution_count": 6,
     "metadata": {},
     "output_type": "execute_result"
    }
   ],
   "source": [
    "df_filtered"
   ]
  },
  {
   "cell_type": "code",
   "execution_count": 7,
   "id": "53f00a6b",
   "metadata": {},
   "outputs": [
    {
     "data": {
      "text/html": [
       "<div>\n",
       "<style scoped>\n",
       "    .dataframe tbody tr th:only-of-type {\n",
       "        vertical-align: middle;\n",
       "    }\n",
       "\n",
       "    .dataframe tbody tr th {\n",
       "        vertical-align: top;\n",
       "    }\n",
       "\n",
       "    .dataframe thead th {\n",
       "        text-align: right;\n",
       "    }\n",
       "</style>\n",
       "<table border=\"1\" class=\"dataframe\">\n",
       "  <thead>\n",
       "    <tr style=\"text-align: right;\">\n",
       "      <th></th>\n",
       "      <th>UserID</th>\n",
       "      <th>Name</th>\n",
       "      <th>Gender</th>\n",
       "      <th>DOB</th>\n",
       "      <th>Interests</th>\n",
       "      <th>City</th>\n",
       "      <th>Country</th>\n",
       "    </tr>\n",
       "  </thead>\n",
       "  <tbody>\n",
       "    <tr>\n",
       "      <th>0</th>\n",
       "      <td>1</td>\n",
       "      <td>Jesse Lawhorn</td>\n",
       "      <td>Female</td>\n",
       "      <td>1958-10-15</td>\n",
       "      <td>'Movies', 'Fashion', 'Fashion', 'Books'</td>\n",
       "      <td>Sibolga</td>\n",
       "      <td>Indonesia</td>\n",
       "    </tr>\n",
       "    <tr>\n",
       "      <th>1</th>\n",
       "      <td>2</td>\n",
       "      <td>Stacy Payne</td>\n",
       "      <td>Female</td>\n",
       "      <td>2004-07-21</td>\n",
       "      <td>'Gaming', 'Finance and investments', 'Outdoor ...</td>\n",
       "      <td>Al Abyār</td>\n",
       "      <td>Libya</td>\n",
       "    </tr>\n",
       "    <tr>\n",
       "      <th>2</th>\n",
       "      <td>3</td>\n",
       "      <td>Katrina Nicewander</td>\n",
       "      <td>Female</td>\n",
       "      <td>2000-02-07</td>\n",
       "      <td>'DIY and crafts', 'Music', 'Science', 'Fashion'</td>\n",
       "      <td>Wādī as Sīr</td>\n",
       "      <td>Jordan</td>\n",
       "    </tr>\n",
       "    <tr>\n",
       "      <th>3</th>\n",
       "      <td>4</td>\n",
       "      <td>Eric Yarbrough</td>\n",
       "      <td>Male</td>\n",
       "      <td>1985-04-14</td>\n",
       "      <td>'Outdoor activities', 'Cars and automobiles'</td>\n",
       "      <td>Matera</td>\n",
       "      <td>Italy</td>\n",
       "    </tr>\n",
       "    <tr>\n",
       "      <th>4</th>\n",
       "      <td>5</td>\n",
       "      <td>Daniel Adkins</td>\n",
       "      <td>Female</td>\n",
       "      <td>1955-09-18</td>\n",
       "      <td>'Politics', 'History'</td>\n",
       "      <td>Biruaca</td>\n",
       "      <td>Venezuela</td>\n",
       "    </tr>\n",
       "    <tr>\n",
       "      <th>...</th>\n",
       "      <td>...</td>\n",
       "      <td>...</td>\n",
       "      <td>...</td>\n",
       "      <td>...</td>\n",
       "      <td>...</td>\n",
       "      <td>...</td>\n",
       "      <td>...</td>\n",
       "    </tr>\n",
       "    <tr>\n",
       "      <th>99995</th>\n",
       "      <td>99996</td>\n",
       "      <td>Lionel Denault</td>\n",
       "      <td>Female</td>\n",
       "      <td>1983-07-31</td>\n",
       "      <td>'DIY and crafts'</td>\n",
       "      <td>Dawan</td>\n",
       "      <td>China</td>\n",
       "    </tr>\n",
       "    <tr>\n",
       "      <th>99996</th>\n",
       "      <td>99997</td>\n",
       "      <td>Margie Mieszala</td>\n",
       "      <td>Female</td>\n",
       "      <td>1954-05-20</td>\n",
       "      <td>'Cars and automobiles', 'Cooking', 'Outdoor ac...</td>\n",
       "      <td>Arcos de la Frontera</td>\n",
       "      <td>Spain</td>\n",
       "    </tr>\n",
       "    <tr>\n",
       "      <th>99997</th>\n",
       "      <td>99998</td>\n",
       "      <td>Joan Mercedes</td>\n",
       "      <td>Male</td>\n",
       "      <td>1975-06-06</td>\n",
       "      <td>'Business and entrepreneurship', 'Cooking'</td>\n",
       "      <td>Los Andes</td>\n",
       "      <td>Chile</td>\n",
       "    </tr>\n",
       "    <tr>\n",
       "      <th>99998</th>\n",
       "      <td>99999</td>\n",
       "      <td>Marvin Massa</td>\n",
       "      <td>Female</td>\n",
       "      <td>1959-11-16</td>\n",
       "      <td>'Gaming', 'Business and entrepreneurship', 'Fa...</td>\n",
       "      <td>Varjota</td>\n",
       "      <td>Brazil</td>\n",
       "    </tr>\n",
       "    <tr>\n",
       "      <th>99999</th>\n",
       "      <td>100000</td>\n",
       "      <td>Josh Young</td>\n",
       "      <td>Female</td>\n",
       "      <td>1988-07-29</td>\n",
       "      <td>'Politics', 'Pets'</td>\n",
       "      <td>Brzeg</td>\n",
       "      <td>Poland</td>\n",
       "    </tr>\n",
       "  </tbody>\n",
       "</table>\n",
       "<p>100000 rows × 7 columns</p>\n",
       "</div>"
      ],
      "text/plain": [
       "       UserID                Name  Gender         DOB  \\\n",
       "0           1       Jesse Lawhorn  Female  1958-10-15   \n",
       "1           2         Stacy Payne  Female  2004-07-21   \n",
       "2           3  Katrina Nicewander  Female  2000-02-07   \n",
       "3           4      Eric Yarbrough    Male  1985-04-14   \n",
       "4           5       Daniel Adkins  Female  1955-09-18   \n",
       "...       ...                 ...     ...         ...   \n",
       "99995   99996      Lionel Denault  Female  1983-07-31   \n",
       "99996   99997     Margie Mieszala  Female  1954-05-20   \n",
       "99997   99998       Joan Mercedes    Male  1975-06-06   \n",
       "99998   99999        Marvin Massa  Female  1959-11-16   \n",
       "99999  100000          Josh Young  Female  1988-07-29   \n",
       "\n",
       "                                               Interests  \\\n",
       "0                'Movies', 'Fashion', 'Fashion', 'Books'   \n",
       "1      'Gaming', 'Finance and investments', 'Outdoor ...   \n",
       "2        'DIY and crafts', 'Music', 'Science', 'Fashion'   \n",
       "3           'Outdoor activities', 'Cars and automobiles'   \n",
       "4                                  'Politics', 'History'   \n",
       "...                                                  ...   \n",
       "99995                                   'DIY and crafts'   \n",
       "99996  'Cars and automobiles', 'Cooking', 'Outdoor ac...   \n",
       "99997         'Business and entrepreneurship', 'Cooking'   \n",
       "99998  'Gaming', 'Business and entrepreneurship', 'Fa...   \n",
       "99999                                 'Politics', 'Pets'   \n",
       "\n",
       "                       City    Country  \n",
       "0                   Sibolga  Indonesia  \n",
       "1                  Al Abyār      Libya  \n",
       "2               Wādī as Sīr     Jordan  \n",
       "3                    Matera      Italy  \n",
       "4                   Biruaca  Venezuela  \n",
       "...                     ...        ...  \n",
       "99995                 Dawan      China  \n",
       "99996  Arcos de la Frontera      Spain  \n",
       "99997             Los Andes      Chile  \n",
       "99998               Varjota     Brazil  \n",
       "99999                 Brzeg     Poland  \n",
       "\n",
       "[100000 rows x 7 columns]"
      ]
     },
     "execution_count": 7,
     "metadata": {},
     "output_type": "execute_result"
    }
   ],
   "source": [
    "df2"
   ]
  },
  {
   "cell_type": "code",
   "execution_count": 8,
   "id": "1af7dfb8",
   "metadata": {},
   "outputs": [],
   "source": [
    "df2=df2[:1000]\n",
    "df_filtered=df_filtered[:1000]"
   ]
  },
  {
   "cell_type": "code",
   "execution_count": 9,
   "id": "99408ef5",
   "metadata": {},
   "outputs": [
    {
     "name": "stderr",
     "output_type": "stream",
     "text": [
      "C:\\Users\\bhask\\AppData\\Local\\Temp\\ipykernel_32592\\2757789612.py:1: SettingWithCopyWarning: \n",
      "A value is trying to be set on a copy of a slice from a DataFrame.\n",
      "Try using .loc[row_indexer,col_indexer] = value instead\n",
      "\n",
      "See the caveats in the documentation: https://pandas.pydata.org/pandas-docs/stable/user_guide/indexing.html#returning-a-view-versus-a-copy\n",
      "  df_filtered[['Name', 'Gender', 'City', 'Country']] = df2.loc[:, ['Name', 'Gender', 'City', 'Country']]\n",
      "C:\\Users\\bhask\\AppData\\Local\\Temp\\ipykernel_32592\\2757789612.py:1: SettingWithCopyWarning: \n",
      "A value is trying to be set on a copy of a slice from a DataFrame.\n",
      "Try using .loc[row_indexer,col_indexer] = value instead\n",
      "\n",
      "See the caveats in the documentation: https://pandas.pydata.org/pandas-docs/stable/user_guide/indexing.html#returning-a-view-versus-a-copy\n",
      "  df_filtered[['Name', 'Gender', 'City', 'Country']] = df2.loc[:, ['Name', 'Gender', 'City', 'Country']]\n",
      "C:\\Users\\bhask\\AppData\\Local\\Temp\\ipykernel_32592\\2757789612.py:1: SettingWithCopyWarning: \n",
      "A value is trying to be set on a copy of a slice from a DataFrame.\n",
      "Try using .loc[row_indexer,col_indexer] = value instead\n",
      "\n",
      "See the caveats in the documentation: https://pandas.pydata.org/pandas-docs/stable/user_guide/indexing.html#returning-a-view-versus-a-copy\n",
      "  df_filtered[['Name', 'Gender', 'City', 'Country']] = df2.loc[:, ['Name', 'Gender', 'City', 'Country']]\n",
      "C:\\Users\\bhask\\AppData\\Local\\Temp\\ipykernel_32592\\2757789612.py:1: SettingWithCopyWarning: \n",
      "A value is trying to be set on a copy of a slice from a DataFrame.\n",
      "Try using .loc[row_indexer,col_indexer] = value instead\n",
      "\n",
      "See the caveats in the documentation: https://pandas.pydata.org/pandas-docs/stable/user_guide/indexing.html#returning-a-view-versus-a-copy\n",
      "  df_filtered[['Name', 'Gender', 'City', 'Country']] = df2.loc[:, ['Name', 'Gender', 'City', 'Country']]\n"
     ]
    }
   ],
   "source": [
    "df_filtered[['Name', 'Gender', 'City', 'Country']] = df2.loc[:, ['Name', 'Gender', 'City', 'Country']]\n",
    "\n"
   ]
  },
  {
   "cell_type": "code",
   "execution_count": 14,
   "id": "bc43d95a",
   "metadata": {},
   "outputs": [
    {
     "data": {
      "text/plain": [
       "Index(['job', 'ethnicity', 'education', 'speaks', 'pets', 'religion', 'Name',\n",
       "       'Gender', 'City', 'Country'],\n",
       "      dtype='object')"
      ]
     },
     "execution_count": 14,
     "metadata": {},
     "output_type": "execute_result"
    }
   ],
   "source": [
    "df_filtered.columns"
   ]
  },
  {
   "cell_type": "code",
   "execution_count": 11,
   "id": "368e07d0",
   "metadata": {},
   "outputs": [
    {
     "data": {
      "text/plain": [
       "1000"
      ]
     },
     "execution_count": 11,
     "metadata": {},
     "output_type": "execute_result"
    }
   ],
   "source": [
    "len(df_filtered)"
   ]
  },
  {
   "cell_type": "code",
   "execution_count": 92,
   "id": "c96d97f1",
   "metadata": {},
   "outputs": [],
   "source": [
    "import pandas as pd\n",
    "from sklearn.metrics.pairwise import cosine_similarity\n",
    "from sklearn.preprocessing import OneHotEncoder\n",
    "\n",
    "\n",
    "\n",
    "# One-hot encode the categorical features\n",
    "encoder = OneHotEncoder()\n",
    "encoded_data = encoder.fit_transform(df_filtered[['City', 'education', 'pets','Country','job','religion']]).toarray()\n",
    "\n",
    "# Compute cosine similarity between users\n",
    "similarity_matrix = cosine_similarity(encoded_data)\n",
    "\n",
    "# Define a threshold for friendship (e.g., > 0.5 means they are friends)\n",
    "threshold = 0.5\n",
    "\n",
    "# Function to find friends based on cosine similarity\n",
    "def find_friends_cosine(user_index, similarity_matrix, threshold=0.5):\n",
    "    friends = []\n",
    "    for i, similarity in enumerate(similarity_matrix[user_index]):\n",
    "        if i != user_index and similarity > threshold:  # Exclude self-comparison\n",
    "            friends.append(i)  # Add index of friends\n",
    "    return friends\n",
    "\n",
    "# Apply the function to each user and create a new 'Friends' column\n",
    "df_filtered['Friends'] = [find_friends_cosine(i, similarity_matrix, threshold) for i in range(len(df_filtered))]\n"
   ]
  },
  {
   "cell_type": "code",
   "execution_count": 56,
   "id": "1c8c5e89",
   "metadata": {},
   "outputs": [],
   "source": [
    "df_filtered_copy=df_filtered.copy()"
   ]
  },
  {
   "cell_type": "code",
   "execution_count": 89,
   "id": "4b562fa8",
   "metadata": {},
   "outputs": [
    {
     "data": {
      "text/plain": [
       "Index(['Name', 'Gender', 'City', 'Country', 'job', 'ethnicity', 'education',\n",
       "       'pets', 'religion', 'Friends'],\n",
       "      dtype='object')"
      ]
     },
     "execution_count": 89,
     "metadata": {},
     "output_type": "execute_result"
    }
   ],
   "source": [
    "df_filtered_copy.columns"
   ]
  },
  {
   "cell_type": "code",
   "execution_count": 57,
   "id": "ba4605dd",
   "metadata": {},
   "outputs": [],
   "source": [
    "df_filtered=df_filtered[['Name', 'Gender', 'City', 'Country','job', 'ethnicity',  'education', 'pets', 'religion']]"
   ]
  },
  {
   "cell_type": "code",
   "execution_count": 58,
   "id": "52da09b8",
   "metadata": {},
   "outputs": [
    {
     "data": {
      "text/plain": [
       "Index(['Name', 'Gender', 'City', 'Country', 'job', 'ethnicity', 'education',\n",
       "       'pets', 'religion'],\n",
       "      dtype='object')"
      ]
     },
     "execution_count": 58,
     "metadata": {},
     "output_type": "execute_result"
    }
   ],
   "source": [
    "df_filtered.columns"
   ]
  },
  {
   "cell_type": "code",
   "execution_count": 59,
   "id": "fdd3b3c3",
   "metadata": {
    "scrolled": true
   },
   "outputs": [
    {
     "data": {
      "text/plain": [
       "other                                         45\n",
       "agnosticism but not too serious about it      43\n",
       "agnosticism                                   43\n",
       "atheism                                       42\n",
       "agnosticism and laughing about it             35\n",
       "christianity but not too serious about it     34\n",
       "catholicism but not too serious about it      34\n",
       "atheism and laughing about it                 33\n",
       "christianity                                  30\n",
       "catholicism                                   30\n",
       "other and laughing about it                   29\n",
       "other but not too serious about it            22\n",
       "judaism but not too serious about it          19\n",
       "atheism but not too serious about it          18\n",
       "agnosticism and somewhat serious about it     17\n",
       "christianity and somewhat serious about it    16\n",
       "other and somewhat serious about it           16\n",
       "atheism and somewhat serious about it         13\n",
       "judaism and laughing about it                 13\n",
       "christianity and very serious about it        12\n",
       "other and very serious about it               11\n",
       "agnosticism and very serious about it         11\n",
       "catholicism and laughing about it             11\n",
       "buddhism but not too serious about it         10\n",
       "buddhism and laughing about it                 9\n",
       "judaism                                        9\n",
       "atheism and very serious about it              8\n",
       "christianity and laughing about it             7\n",
       "catholicism and somewhat serious about it      7\n",
       "buddhism                                       6\n",
       "buddhism and somewhat serious about it         6\n",
       "hinduism but not too serious about it          4\n",
       "judaism and somewhat serious about it          2\n",
       "hinduism and very serious about it             1\n",
       "hinduism and laughing about it                 1\n",
       "islam and very serious about it                1\n",
       "islam                                          1\n",
       "hinduism                                       1\n",
       "catholicism and very serious about it          1\n",
       "Name: religion, dtype: int64"
      ]
     },
     "execution_count": 59,
     "metadata": {},
     "output_type": "execute_result"
    }
   ],
   "source": [
    "df_filtered.religion.value_counts()"
   ]
  },
  {
   "cell_type": "code",
   "execution_count": 60,
   "id": "13126c81",
   "metadata": {},
   "outputs": [
    {
     "data": {
      "text/plain": [
       "white                                                                                                      572\n",
       "asian                                                                                                       71\n",
       "hispanic / latin                                                                                            55\n",
       "hispanic / latin, white                                                                                     32\n",
       "black                                                                                                       26\n",
       "other                                                                                                       21\n",
       "white, other                                                                                                15\n",
       "indian                                                                                                      15\n",
       "asian, white                                                                                                13\n",
       "pacific islander                                                                                             8\n",
       "middle eastern, white                                                                                        7\n",
       "black, white                                                                                                 6\n",
       "asian, pacific islander                                                                                      6\n",
       "native american, white                                                                                       5\n",
       "middle eastern                                                                                               5\n",
       "hispanic / latin, other                                                                                      4\n",
       "black, native american, white                                                                                3\n",
       "native american, white, other                                                                                2\n",
       "black, other                                                                                                 2\n",
       "asian, black                                                                                                 2\n",
       "hispanic / latin, white, other                                                                               2\n",
       "asian, middle eastern, black, native american, indian, pacific islander, hispanic / latin, white, other      2\n",
       "asian, black, pacific islander                                                                               1\n",
       "black, native american, hispanic / latin                                                                     1\n",
       "native american                                                                                              1\n",
       "black, hispanic / latin, white                                                                               1\n",
       "pacific islander, hispanic / latin                                                                           1\n",
       "black, native american, hispanic / latin, white, other                                                       1\n",
       "middle eastern, indian, other                                                                                1\n",
       "indian, white, other                                                                                         1\n",
       "black, indian                                                                                                1\n",
       "native american, hispanic / latin, white                                                                     1\n",
       "asian, black, other                                                                                          1\n",
       "pacific islander, white                                                                                      1\n",
       "asian, native american                                                                                       1\n",
       "black, white, other                                                                                          1\n",
       "black, native american                                                                                       1\n",
       "middle eastern, other                                                                                        1\n",
       "black, native american, hispanic / latin, other                                                              1\n",
       "indian, white                                                                                                1\n",
       "Name: ethnicity, dtype: int64"
      ]
     },
     "execution_count": 60,
     "metadata": {},
     "output_type": "execute_result"
    }
   ],
   "source": [
    "df_filtered.ethnicity.value_counts()"
   ]
  },
  {
   "cell_type": "code",
   "execution_count": null,
   "id": "3aa24aa3",
   "metadata": {},
   "outputs": [],
   "source": []
  },
  {
   "cell_type": "code",
   "execution_count": 61,
   "id": "b732d688",
   "metadata": {},
   "outputs": [
    {
     "data": {
      "text/plain": [
       "Index(['Name', 'Gender', 'City', 'Country', 'job', 'ethnicity', 'education',\n",
       "       'pets', 'religion'],\n",
       "      dtype='object')"
      ]
     },
     "execution_count": 61,
     "metadata": {},
     "output_type": "execute_result"
    }
   ],
   "source": [
    "df_filtered.columns"
   ]
  },
  {
   "cell_type": "code",
   "execution_count": 62,
   "id": "29e942f1",
   "metadata": {},
   "outputs": [],
   "source": [
    "le = LabelEncoder()\n",
    "df_encoded = df_filtered.apply(lambda col: le.fit_transform(col) if col.dtype == 'object' else col)"
   ]
  },
  {
   "cell_type": "code",
   "execution_count": 63,
   "id": "79e6fe60",
   "metadata": {},
   "outputs": [],
   "source": [
    "import pandas as pd\n",
    "import networkx as nx\n",
    "from sklearn.preprocessing import LabelEncoder\n",
    "from sklearn.metrics.pairwise import cosine_similarity\n",
    "\n",
    "df_encoded = df_filtered.apply(lambda col: LabelEncoder().fit_transform(col) if col.dtype == 'object' else col)\n",
    "\n"
   ]
  },
  {
   "cell_type": "code",
   "execution_count": 64,
   "id": "db12b3e9",
   "metadata": {},
   "outputs": [],
   "source": [
    "G = nx.Graph()"
   ]
  },
  {
   "cell_type": "code",
   "execution_count": 65,
   "id": "647ce001",
   "metadata": {},
   "outputs": [],
   "source": [
    "# Add nodes with user attributes\n",
    "for idx, row in df_encoded.iterrows():\n",
    "    G.add_node(idx, **row.to_dict())"
   ]
  },
  {
   "cell_type": "code",
   "execution_count": 66,
   "id": "e54b5b48",
   "metadata": {},
   "outputs": [],
   "source": [
    "similarity_matrix = cosine_similarity(df_encoded.values)"
   ]
  },
  {
   "cell_type": "code",
   "execution_count": 67,
   "id": "1a1b9711",
   "metadata": {},
   "outputs": [],
   "source": [
    "threshold = 0.7"
   ]
  },
  {
   "cell_type": "code",
   "execution_count": 68,
   "id": "2d56e087",
   "metadata": {},
   "outputs": [],
   "source": [
    "for i in range(len(similarity_matrix)):\n",
    "    for j in range(i+1, len(similarity_matrix)):\n",
    "        if similarity_matrix[i, j] > threshold:\n",
    "            G.add_edge(i, j)\n"
   ]
  },
  {
   "cell_type": "code",
   "execution_count": 69,
   "id": "ac5299f7",
   "metadata": {},
   "outputs": [
    {
     "name": "stdout",
     "output_type": "stream",
     "text": [
      "Defaulting to user installation because normal site-packages is not writeable\n",
      "Requirement already satisfied: torch in c:\\users\\bhask\\appdata\\roaming\\python\\python310\\site-packages (2.4.1)\n",
      "Requirement already satisfied: torchvision in c:\\users\\bhask\\appdata\\roaming\\python\\python310\\site-packages (0.19.1)\n",
      "Requirement already satisfied: torchaudio in c:\\users\\bhask\\appdata\\roaming\\python\\python310\\site-packages (2.4.1)\n",
      "Requirement already satisfied: networkx in c:\\programdata\\anaconda3\\lib\\site-packages (from torch) (2.8.4)\n",
      "Requirement already satisfied: fsspec in c:\\programdata\\anaconda3\\lib\\site-packages (from torch) (2022.11.0)\n",
      "Requirement already satisfied: typing-extensions>=4.8.0 in c:\\users\\bhask\\appdata\\roaming\\python\\python310\\site-packages (from torch) (4.12.2)\n",
      "Requirement already satisfied: jinja2 in c:\\programdata\\anaconda3\\lib\\site-packages (from torch) (3.1.2)\n",
      "Requirement already satisfied: filelock in c:\\programdata\\anaconda3\\lib\\site-packages (from torch) (3.9.0)\n",
      "Requirement already satisfied: sympy in c:\\programdata\\anaconda3\\lib\\site-packages (from torch) (1.11.1)\n",
      "Requirement already satisfied: pillow!=8.3.*,>=5.3.0 in c:\\programdata\\anaconda3\\lib\\site-packages (from torchvision) (9.4.0)\n",
      "Requirement already satisfied: numpy in c:\\programdata\\anaconda3\\lib\\site-packages (from torchvision) (1.23.5)\n",
      "Requirement already satisfied: MarkupSafe>=2.0 in c:\\programdata\\anaconda3\\lib\\site-packages (from jinja2->torch) (2.1.1)\n",
      "Requirement already satisfied: mpmath>=0.19 in c:\\programdata\\anaconda3\\lib\\site-packages (from sympy->torch) (1.2.1)\n"
     ]
    }
   ],
   "source": [
    "!pip install torch torchvision torchaudio\n"
   ]
  },
  {
   "cell_type": "code",
   "execution_count": 70,
   "id": "18276af8",
   "metadata": {},
   "outputs": [
    {
     "name": "stdout",
     "output_type": "stream",
     "text": [
      "Defaulting to user installation because normal site-packages is not writeable\n",
      "Requirement already satisfied: torch-geometric in c:\\users\\bhask\\appdata\\roaming\\python\\python310\\site-packages (2.6.1)\n",
      "Requirement already satisfied: tqdm in c:\\programdata\\anaconda3\\lib\\site-packages (from torch-geometric) (4.64.1)\n",
      "Requirement already satisfied: numpy in c:\\programdata\\anaconda3\\lib\\site-packages (from torch-geometric) (1.23.5)\n",
      "Requirement already satisfied: psutil>=5.8.0 in c:\\programdata\\anaconda3\\lib\\site-packages (from torch-geometric) (5.9.0)\n",
      "Requirement already satisfied: aiohttp in c:\\users\\bhask\\appdata\\roaming\\python\\python310\\site-packages (from torch-geometric) (3.10.6)\n",
      "Requirement already satisfied: pyparsing in c:\\programdata\\anaconda3\\lib\\site-packages (from torch-geometric) (3.0.9)\n",
      "Requirement already satisfied: requests in c:\\programdata\\anaconda3\\lib\\site-packages (from torch-geometric) (2.28.1)\n",
      "Requirement already satisfied: fsspec in c:\\programdata\\anaconda3\\lib\\site-packages (from torch-geometric) (2022.11.0)\n",
      "Requirement already satisfied: jinja2 in c:\\programdata\\anaconda3\\lib\\site-packages (from torch-geometric) (3.1.2)\n",
      "Requirement already satisfied: yarl<2.0,>=1.12.0 in c:\\users\\bhask\\appdata\\roaming\\python\\python310\\site-packages (from aiohttp->torch-geometric) (1.13.0)\n",
      "Requirement already satisfied: aiohappyeyeballs>=2.3.0 in c:\\users\\bhask\\appdata\\roaming\\python\\python310\\site-packages (from aiohttp->torch-geometric) (2.4.2)\n",
      "Requirement already satisfied: async-timeout<5.0,>=4.0 in c:\\users\\bhask\\appdata\\roaming\\python\\python310\\site-packages (from aiohttp->torch-geometric) (4.0.3)\n",
      "Requirement already satisfied: frozenlist>=1.1.1 in c:\\users\\bhask\\appdata\\roaming\\python\\python310\\site-packages (from aiohttp->torch-geometric) (1.4.1)\n",
      "Requirement already satisfied: multidict<7.0,>=4.5 in c:\\users\\bhask\\appdata\\roaming\\python\\python310\\site-packages (from aiohttp->torch-geometric) (6.1.0)\n",
      "Requirement already satisfied: attrs>=17.3.0 in c:\\programdata\\anaconda3\\lib\\site-packages (from aiohttp->torch-geometric) (22.1.0)\n",
      "Requirement already satisfied: aiosignal>=1.1.2 in c:\\users\\bhask\\appdata\\roaming\\python\\python310\\site-packages (from aiohttp->torch-geometric) (1.3.1)\n",
      "Requirement already satisfied: MarkupSafe>=2.0 in c:\\programdata\\anaconda3\\lib\\site-packages (from jinja2->torch-geometric) (2.1.1)\n",
      "Requirement already satisfied: certifi>=2017.4.17 in c:\\programdata\\anaconda3\\lib\\site-packages (from requests->torch-geometric) (2024.8.30)\n",
      "Requirement already satisfied: idna<4,>=2.5 in c:\\programdata\\anaconda3\\lib\\site-packages (from requests->torch-geometric) (3.4)\n",
      "Requirement already satisfied: urllib3<1.27,>=1.21.1 in c:\\programdata\\anaconda3\\lib\\site-packages (from requests->torch-geometric) (1.26.14)\n",
      "Requirement already satisfied: charset-normalizer<3,>=2 in c:\\programdata\\anaconda3\\lib\\site-packages (from requests->torch-geometric) (2.0.4)\n",
      "Requirement already satisfied: colorama in c:\\programdata\\anaconda3\\lib\\site-packages (from tqdm->torch-geometric) (0.4.6)\n",
      "Requirement already satisfied: typing-extensions>=4.1.0 in c:\\users\\bhask\\appdata\\roaming\\python\\python310\\site-packages (from multidict<7.0,>=4.5->aiohttp->torch-geometric) (4.12.2)\n",
      "Note: you may need to restart the kernel to use updated packages.\n"
     ]
    }
   ],
   "source": [
    "pip install torch-geometric\n"
   ]
  },
  {
   "cell_type": "code",
   "execution_count": 71,
   "id": "536052a6",
   "metadata": {},
   "outputs": [],
   "source": []
  },
  {
   "cell_type": "code",
   "execution_count": 72,
   "id": "0cce9efe",
   "metadata": {},
   "outputs": [],
   "source": []
  },
  {
   "cell_type": "code",
   "execution_count": 73,
   "id": "135ff91c",
   "metadata": {},
   "outputs": [],
   "source": []
  },
  {
   "cell_type": "code",
   "execution_count": 74,
   "id": "55e3d2d0",
   "metadata": {},
   "outputs": [
    {
     "name": "stdout",
     "output_type": "stream",
     "text": [
      "Index(['Name', 'Gender', 'City', 'Country', 'job', 'ethnicity', 'education',\n",
      "       'pets', 'religion'],\n",
      "      dtype='object')\n"
     ]
    }
   ],
   "source": []
  },
  {
   "cell_type": "code",
   "execution_count": 75,
   "id": "2b69a3d2",
   "metadata": {},
   "outputs": [],
   "source": []
  },
  {
   "cell_type": "code",
   "execution_count": 99,
   "id": "b308cd44",
   "metadata": {},
   "outputs": [
    {
     "name": "stdout",
     "output_type": "stream",
     "text": [
      "Defaulting to user installation because normal site-packages is not writeable\n",
      "Requirement already satisfied: tqdm in c:\\programdata\\anaconda3\\lib\\site-packages (4.64.1)\n",
      "Requirement already satisfied: colorama in c:\\programdata\\anaconda3\\lib\\site-packages (from tqdm) (0.4.6)\n",
      "Note: you may need to restart the kernel to use updated packages.\n"
     ]
    }
   ],
   "source": [
    "pip install tqdm\n"
   ]
  },
  {
   "cell_type": "code",
   "execution_count": 104,
   "id": "c8b9b4b2",
   "metadata": {},
   "outputs": [
    {
     "name": "stderr",
     "output_type": "stream",
     "text": [
      "100%|██████████| 100/100 [00:34<00:00,  2.92it/s]\n",
      "100%|██████████| 1000/1000 [00:12<00:00, 78.65it/s]"
     ]
    },
    {
     "name": "stdout",
     "output_type": "stream",
     "text": [
      "Overall Accuracy: 97.51%\n"
     ]
    },
    {
     "name": "stderr",
     "output_type": "stream",
     "text": [
      "\n"
     ]
    }
   ],
   "source": [
    "import torch\n",
    "import torch.nn.functional as F\n",
    "from torch_geometric.nn import GCNConv\n",
    "import networkx as nx\n",
    "from sklearn.metrics.pairwise import cosine_similarity\n",
    "from torch_geometric.utils import from_networkx\n",
    "from sklearn.preprocessing import LabelEncoder\n",
    "from tqdm import tqdm\n",
    "\n",
    "# Define GCN model\n",
    "class GCN(torch.nn.Module):\n",
    "    def __init__(self, input_dim, hidden_dim, output_dim):\n",
    "        super(GCN, self).__init__()\n",
    "        self.conv1 = GCNConv(input_dim, hidden_dim)\n",
    "        self.conv2 = GCNConv(hidden_dim, output_dim)\n",
    "\n",
    "    def forward(self, data):\n",
    "        x, edge_index = data.x, data.edge_index\n",
    "        x = self.conv1(x, edge_index)\n",
    "        x = F.relu(x)\n",
    "        x = self.conv2(x, edge_index)\n",
    "        return x  # Return embeddings without softmax for cosine similarity\n",
    "\n",
    "# Step 1: Encode categorical features and prepare graph data\n",
    "categorical_columns = ['Name', 'Gender', 'City', 'Country', 'job', 'ethnicity', 'education', 'pets', 'religion']\n",
    "df_encoded = df_filtered_copy.copy()\n",
    "\n",
    "# Apply LabelEncoder to categorical columns\n",
    "label_encoders = {}\n",
    "for col in categorical_columns:\n",
    "    le = LabelEncoder()\n",
    "    df_encoded[col] = le.fit_transform(df_encoded[col].astype(str))\n",
    "    label_encoders[col] = le\n",
    "\n",
    "# Create a graph using NetworkX and add nodes with encoded attributes\n",
    "G = nx.Graph()\n",
    "for idx, row in df_encoded.iterrows():\n",
    "    G.add_node(idx, **row.to_dict())\n",
    "\n",
    "# Add edges based on cosine similarity (or any other relationship)\n",
    "similarity_matrix = cosine_similarity(df_encoded.drop(columns=[\"Friends\"]).values)\n",
    "threshold = 0.7  # Define a similarity threshold for creating edges\n",
    "for i in range(len(similarity_matrix)):\n",
    "    for j in range(i + 1, len(similarity_matrix)):\n",
    "        if similarity_matrix[i, j] > threshold:\n",
    "            G.add_edge(i, j)\n",
    "\n",
    "# Convert the NetworkX graph to a PyTorch Geometric graph\n",
    "data = from_networkx(G)\n",
    "data.x = torch.tensor(df_encoded.drop(columns=[\"Friends\"]).values, dtype=torch.float)\n",
    "\n",
    "# Step 2: Train GCN to learn node embeddings\n",
    "input_dim = data.x.shape[1]\n",
    "hidden_dim = 16  # Hidden layer size\n",
    "output_dim = 16  # Output embeddings dimension (can be tuned)\n",
    "model = GCN(input_dim=input_dim, hidden_dim=hidden_dim, output_dim=output_dim)\n",
    "\n",
    "# Define optimizer\n",
    "optimizer = torch.optim.Adam(model.parameters(), lr=0.01)\n",
    "\n",
    "# Forward pass and training\n",
    "model.train()\n",
    "for epoch in tqdm(range(100)):  # 100 epochs or as required\n",
    "    optimizer.zero_grad()\n",
    "    out = model(data)  # Get node embeddings\n",
    "    loss = torch.mean(torch.norm(out, dim=1))  # Unsupervised training, minimizing embedding norms (you can choose another loss)\n",
    "    loss.backward()\n",
    "    optimizer.step()\n",
    "\n",
    "# Step 3: Generate recommendations using learned embeddings\n",
    "# Function to recommend top k friends based on cosine similarity of learned embeddings\n",
    "def recommend_friends_gcn(user_id, embeddings, k=5):\n",
    "    user_embedding = embeddings[user_id].reshape(1, -1)  # User's embedding from GCN\n",
    "    similarities = cosine_similarity(user_embedding, embeddings)  # Compute cosine similarities\n",
    "    similarities[0, user_id] = -1  # Exclude self from recommendations\n",
    "    recommendations = similarities.argsort()[0][-k:]  # Top k similar users\n",
    "    return recommendations\n",
    "\n",
    "# Step 4: Calculate overall accuracy using GCN recommendations\n",
    "def calculate_accuracy_gcn(user_id, recommendations, df_filtered_copy, total_users):\n",
    "    user_friends = df_filtered_copy.loc[user_id, 'Friends']  # Get actual friends for the user\n",
    "    all_users = set(range(total_users)) - {user_id}  # All users except the current user\n",
    "\n",
    "    # True Positives (TP): Correct friend recommendations\n",
    "    tp = len([rec for rec in recommendations if rec in user_friends])\n",
    "\n",
    "    # False Positives (FP): Incorrect friend recommendations\n",
    "    fp = len([rec for rec in recommendations if rec not in user_friends])\n",
    "\n",
    "    # False Negatives (FN): Actual friends who were not recommended\n",
    "    fn = len([friend for friend in user_friends if friend not in recommendations])\n",
    "\n",
    "    # True Negatives (TN): Non-friends who were not recommended\n",
    "    non_friends = all_users - set(user_friends)\n",
    "    tn = len([user for user in non_friends if user not in recommendations])\n",
    "\n",
    "   \n",
    "    accuracy = (tp + tn) / (tp + fp + fn + tn)\n",
    "    return accuracy\n",
    "\n",
    "# Get GCN embeddings after training\n",
    "model.eval()\n",
    "with torch.no_grad():\n",
    "    embeddings = model(data)\n",
    "\n",
    "# Calculate total accuracy over all users\n",
    "total_accuracy = 0\n",
    "for user_id in tqdm(range(len(df_filtered_copy))):\n",
    "    recommendations = recommend_friends_gcn(user_id, embeddings.numpy(), k=5)  # Get GCN-based recommendations\n",
    "    accuracy = calculate_accuracy_gcn(user_id, recommendations, df_filtered_copy, len(df_filtered_copy))\n",
    "    total_accuracy += accuracy\n",
    "\n",
    "# Step 5: Print overall accuracy\n",
    "overall_accuracy = total_accuracy / len(df_filtered_copy)\n",
    "print(f\"Overall Accuracy: {overall_accuracy * 100:.2f}%\")\n"
   ]
  },
  {
   "cell_type": "code",
   "execution_count": 77,
   "id": "b9391275",
   "metadata": {},
   "outputs": [
    {
     "data": {
      "text/plain": [
       "Name                         Mary Browne\n",
       "Gender                            Female\n",
       "City                             Jaigaon\n",
       "Country                            India\n",
       "job          sales / marketing / biz dev\n",
       "ethnicity                          white\n",
       "education                            NaN\n",
       "pets                                 NaN\n",
       "religion                             NaN\n",
       "Name: 400, dtype: object"
      ]
     },
     "execution_count": 77,
     "metadata": {},
     "output_type": "execute_result"
    }
   ],
   "source": [
    "df_filtered.iloc[400]"
   ]
  },
  {
   "cell_type": "code",
   "execution_count": 55,
   "id": "a9057ad8",
   "metadata": {},
   "outputs": [
    {
     "data": {
      "text/plain": [
       "Name                             John Watts\n",
       "Gender                               Female\n",
       "City                             Georgetown\n",
       "Country                              Guyana\n",
       "job                    education / academia\n",
       "ethnicity                             white\n",
       "education    graduated from masters program\n",
       "pets                             likes dogs\n",
       "religion                            judaism\n",
       "Friends                     [150, 185, 555]\n",
       "Name: 105, dtype: object"
      ]
     },
     "execution_count": 55,
     "metadata": {},
     "output_type": "execute_result"
    }
   ],
   "source": [
    "df_filtered.iloc[105]"
   ]
  },
  {
   "cell_type": "code",
   "execution_count": 191,
   "id": "164085bc",
   "metadata": {},
   "outputs": [
    {
     "name": "stdout",
     "output_type": "stream",
     "text": [
      "Defaulting to user installation because normal site-packages is not writeable\n",
      "Requirement already satisfied: matplotlib in c:\\programdata\\anaconda3\\lib\\site-packages (3.7.0)\n",
      "Requirement already satisfied: seaborn in c:\\programdata\\anaconda3\\lib\\site-packages (0.12.2)\n",
      "Requirement already satisfied: fonttools>=4.22.0 in c:\\programdata\\anaconda3\\lib\\site-packages (from matplotlib) (4.25.0)\n",
      "Requirement already satisfied: packaging>=20.0 in c:\\programdata\\anaconda3\\lib\\site-packages (from matplotlib) (22.0)\n",
      "Requirement already satisfied: numpy>=1.20 in c:\\programdata\\anaconda3\\lib\\site-packages (from matplotlib) (1.23.5)\n",
      "Requirement already satisfied: kiwisolver>=1.0.1 in c:\\programdata\\anaconda3\\lib\\site-packages (from matplotlib) (1.4.4)\n",
      "Requirement already satisfied: python-dateutil>=2.7 in c:\\programdata\\anaconda3\\lib\\site-packages (from matplotlib) (2.8.2)\n",
      "Requirement already satisfied: cycler>=0.10 in c:\\programdata\\anaconda3\\lib\\site-packages (from matplotlib) (0.11.0)\n",
      "Requirement already satisfied: pyparsing>=2.3.1 in c:\\programdata\\anaconda3\\lib\\site-packages (from matplotlib) (3.0.9)\n",
      "Requirement already satisfied: contourpy>=1.0.1 in c:\\programdata\\anaconda3\\lib\\site-packages (from matplotlib) (1.0.5)\n",
      "Requirement already satisfied: pillow>=6.2.0 in c:\\programdata\\anaconda3\\lib\\site-packages (from matplotlib) (9.4.0)\n",
      "Requirement already satisfied: pandas>=0.25 in c:\\programdata\\anaconda3\\lib\\site-packages (from seaborn) (1.5.3)\n",
      "Requirement already satisfied: pytz>=2020.1 in c:\\programdata\\anaconda3\\lib\\site-packages (from pandas>=0.25->seaborn) (2022.7)\n",
      "Requirement already satisfied: six>=1.5 in c:\\programdata\\anaconda3\\lib\\site-packages (from python-dateutil>=2.7->matplotlib) (1.16.0)\n",
      "Note: you may need to restart the kernel to use updated packages.\n"
     ]
    }
   ],
   "source": [
    "pip install matplotlib seaborn\n"
   ]
  },
  {
   "cell_type": "code",
   "execution_count": 193,
   "id": "85b02849",
   "metadata": {},
   "outputs": [
    {
     "data": {
      "image/png": "[encoded data removed]",
      "text/plain": [
       "<Figure size 1000x800 with 2 Axes>"
      ]
     },
     "metadata": {},
     "output_type": "display_data"
    }
   ],
   "source": [
    "import seaborn as sns\n",
    "import matplotlib.pyplot as plt\n",
    "\n",
    "# Step 1: Convert categorical variables to numerical codes\n",
    "df_encoded = df_filtered.apply(lambda col: pd.factorize(col)[0] if col.dtype == 'object' else col)\n",
    "\n",
    "# Step 2: Create a correlation matrix\n",
    "correlation_matrix = df_encoded.corr()\n",
    "\n",
    "# Step 3: Plot the eatmap\n",
    "plt.figure(figsize=(10, 8))\n",
    "sns.heatmap(correlation_matrix, annot=True, cmap='coolwarm', square=True, cbar=True, fmt='.2f', linewidths=.5)\n",
    "plt.title('Correlation Heatmap of DataFrame Columns')\n",
    "plt.xticks(rotation=45)\n",
    "plt.yticks(rotation=45)\n",
    "plt.tight_layout()\n",
    "plt.show()\n"
   ]
  },
  {
   "cell_type": "code",
   "execution_count": 105,
   "id": "64b74546",
   "metadata": {},
   "outputs": [
    {
     "ename": "SyntaxError",
     "evalue": "invalid syntax (3590803110.py, line 1)",
     "output_type": "error",
     "traceback": [
      "\u001b[1;36m  Cell \u001b[1;32mIn[105], line 1\u001b[1;36m\u001b[0m\n\u001b[1;33m    git init\u001b[0m\n\u001b[1;37m        ^\u001b[0m\n\u001b[1;31mSyntaxError\u001b[0m\u001b[1;31m:\u001b[0m invalid syntax\n"
     ]
    }
   ],
   "source": [
    "git init\n",
    "git add README.md\n",
    "git commit -m \"first commit\"\n",
    "git branch -M main\n",
    "git remote add origin https://github.com/jathinsanjay/social_recommendation.git\n",
    "git push -u origin main"
   ]
  },
  {
   "cell_type": "code",
   "execution_count": null,
   "id": "b2ac3e22",
   "metadata": {},
   "outputs": [],
   "source": []
  }
 ],
 "metadata": {
  "kernelspec": {
   "display_name": "Python 3 (ipykernel)",
   "language": "python",
   "name": "python3"
  },
  "language_info": {
   "codemirror_mode": {
    "name": "ipython",
    "version": 3
   },
   "file_extension": ".py",
   "mimetype": "text/x-python",
   "name": "python",
   "nbconvert_exporter": "python",
   "pygments_lexer": "ipython3",
   "version": "3.10.9"
  }
 },
 "nbformat": 4,
 "nbformat_minor": 5
}
